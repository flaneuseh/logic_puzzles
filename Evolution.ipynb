{
 "cells": [
  {
   "attachments": {},
   "cell_type": "markdown",
   "metadata": {},
   "source": [
    "# Evolution \n",
    "\n",
    "An evolutionary Algorithm to evolve logic puzzles"
   ]
  },
  {
   "cell_type": "code",
   "execution_count": 1,
   "metadata": {},
   "outputs": [
    {
     "name": "stdout",
     "output_type": "stream",
     "text": [
      "Defaulting to user installation because normal site-packages is not writeable\n",
      "Collecting import_ipynb\n",
      "  Using cached import_ipynb-0.1.4-py3-none-any.whl (4.1 kB)\n",
      "Requirement already satisfied: IPython in /home/fiona/.local/lib/python3.10/site-packages (from import_ipynb) (8.17.2)\n",
      "Requirement already satisfied: nbformat in /home/fiona/.local/lib/python3.10/site-packages (from import_ipynb) (5.9.2)\n",
      "Requirement already satisfied: decorator in /usr/lib/python3/dist-packages (from IPython->import_ipynb) (4.4.2)\n",
      "Requirement already satisfied: jedi>=0.16 in /home/fiona/.local/lib/python3.10/site-packages (from IPython->import_ipynb) (0.19.1)\n",
      "Requirement already satisfied: matplotlib-inline in /home/fiona/.local/lib/python3.10/site-packages (from IPython->import_ipynb) (0.1.6)\n",
      "Requirement already satisfied: prompt-toolkit!=3.0.37,<3.1.0,>=3.0.30 in /home/fiona/.local/lib/python3.10/site-packages (from IPython->import_ipynb) (3.0.39)\n",
      "Requirement already satisfied: pygments>=2.4.0 in /home/fiona/.local/lib/python3.10/site-packages (from IPython->import_ipynb) (2.12.0)\n",
      "Requirement already satisfied: stack-data in /home/fiona/.local/lib/python3.10/site-packages (from IPython->import_ipynb) (0.6.3)\n",
      "Requirement already satisfied: traitlets>=5 in /home/fiona/.local/lib/python3.10/site-packages (from IPython->import_ipynb) (5.13.0)\n",
      "Requirement already satisfied: exceptiongroup in /home/fiona/.local/lib/python3.10/site-packages (from IPython->import_ipynb) (1.1.3)\n",
      "Requirement already satisfied: pexpect>4.3 in /usr/lib/python3/dist-packages (from IPython->import_ipynb) (4.8.0)\n",
      "Requirement already satisfied: fastjsonschema in /home/fiona/.local/lib/python3.10/site-packages (from nbformat->import_ipynb) (2.18.1)\n",
      "Requirement already satisfied: jsonschema>=2.6 in /home/fiona/.local/lib/python3.10/site-packages (from nbformat->import_ipynb) (4.19.2)\n",
      "Requirement already satisfied: jupyter-core in /home/fiona/.local/lib/python3.10/site-packages (from nbformat->import_ipynb) (5.5.0)\n",
      "Requirement already satisfied: parso<0.9.0,>=0.8.3 in /home/fiona/.local/lib/python3.10/site-packages (from jedi>=0.16->IPython->import_ipynb) (0.8.3)\n",
      "Requirement already satisfied: attrs>=22.2.0 in /home/fiona/.local/lib/python3.10/site-packages (from jsonschema>=2.6->nbformat->import_ipynb) (23.1.0)\n",
      "Requirement already satisfied: jsonschema-specifications>=2023.03.6 in /home/fiona/.local/lib/python3.10/site-packages (from jsonschema>=2.6->nbformat->import_ipynb) (2023.7.1)\n",
      "Requirement already satisfied: referencing>=0.28.4 in /home/fiona/.local/lib/python3.10/site-packages (from jsonschema>=2.6->nbformat->import_ipynb) (0.30.2)\n",
      "Requirement already satisfied: rpds-py>=0.7.1 in /home/fiona/.local/lib/python3.10/site-packages (from jsonschema>=2.6->nbformat->import_ipynb) (0.10.6)\n",
      "Requirement already satisfied: wcwidth in /home/fiona/.local/lib/python3.10/site-packages (from prompt-toolkit!=3.0.37,<3.1.0,>=3.0.30->IPython->import_ipynb) (0.2.8)\n",
      "Requirement already satisfied: platformdirs>=2.5 in /home/fiona/.local/lib/python3.10/site-packages (from jupyter-core->nbformat->import_ipynb) (3.11.0)\n",
      "Requirement already satisfied: executing>=1.2.0 in /home/fiona/.local/lib/python3.10/site-packages (from stack-data->IPython->import_ipynb) (2.0.0)\n",
      "Requirement already satisfied: asttokens>=2.1.0 in /home/fiona/.local/lib/python3.10/site-packages (from stack-data->IPython->import_ipynb) (2.4.0)\n",
      "Requirement already satisfied: pure-eval in /home/fiona/.local/lib/python3.10/site-packages (from stack-data->IPython->import_ipynb) (0.2.2)\n",
      "Requirement already satisfied: six>=1.12.0 in /usr/lib/python3/dist-packages (from asttokens>=2.1.0->stack-data->IPython->import_ipynb) (1.16.0)\n",
      "\u001b[33mDEPRECATION: python-debian 0.1.43ubuntu1 has a non-standard version number. pip 24.0 will enforce this behaviour change. A possible replacement is to upgrade to a newer version of python-debian or contact the author to suggest that they release a version with a conforming version number. Discussion can be found at https://github.com/pypa/pip/issues/12063\u001b[0m\u001b[33m\n",
      "\u001b[0mInstalling collected packages: import_ipynb\n",
      "Successfully installed import_ipynb-0.1.4\n"
     ]
    }
   ],
   "source": [
    "!pip install import_ipynb"
   ]
  },
  {
   "cell_type": "code",
   "execution_count": 1,
   "metadata": {},
   "outputs": [
    {
     "ename": "ModuleNotFoundError",
     "evalue": "No module named 'matplotlib'",
     "output_type": "error",
     "traceback": [
      "\u001b[0;31m---------------------------------------------------------------------------\u001b[0m",
      "\u001b[0;31mModuleNotFoundError\u001b[0m                       Traceback (most recent call last)",
      "Cell \u001b[0;32mIn[1], line 5\u001b[0m\n\u001b[1;32m      3\u001b[0m \u001b[38;5;28;01mfrom\u001b[39;00m \u001b[38;5;21;01mLogicPuzzles\u001b[39;00m \u001b[38;5;28;01mimport\u001b[39;00m Puzzle, generate_hint, Category, apply_hint, find_openings, find_transitives  \n\u001b[1;32m      4\u001b[0m \u001b[38;5;28;01mfrom\u001b[39;00m \u001b[38;5;21;01mHintToEnglish\u001b[39;00m \u001b[38;5;28;01mimport\u001b[39;00m hint_to_english  \n\u001b[0;32m----> 5\u001b[0m \u001b[38;5;28;01mfrom\u001b[39;00m \u001b[38;5;21;01mDataVisualization\u001b[39;00m \u001b[38;5;28;01mimport\u001b[39;00m plot_history\n\u001b[1;32m      6\u001b[0m \u001b[38;5;28;01mimport\u001b[39;00m \u001b[38;5;21;01mrandom\u001b[39;00m \n\u001b[1;32m      7\u001b[0m \u001b[38;5;28;01mimport\u001b[39;00m \u001b[38;5;21;01mmath\u001b[39;00m \n",
      "File \u001b[0;32m~/Documents/Repositories/logic_puzzles/DataVisualization.py:1\u001b[0m\n\u001b[0;32m----> 1\u001b[0m \u001b[38;5;28;01mimport\u001b[39;00m \u001b[38;5;21;01mmatplotlib\u001b[39;00m\u001b[38;5;21;01m.\u001b[39;00m\u001b[38;5;21;01mpyplot\u001b[39;00m \u001b[38;5;28;01mas\u001b[39;00m \u001b[38;5;21;01mplt\u001b[39;00m \n\u001b[1;32m      2\u001b[0m \u001b[38;5;28;01mimport\u001b[39;00m \u001b[38;5;21;01mpickle\u001b[39;00m \n\u001b[1;32m      3\u001b[0m \u001b[38;5;28;01mfrom\u001b[39;00m \u001b[38;5;21;01mHintToEnglish\u001b[39;00m \u001b[38;5;28;01mimport\u001b[39;00m hint_to_english\n",
      "\u001b[0;31mModuleNotFoundError\u001b[0m: No module named 'matplotlib'"
     ]
    }
   ],
   "source": [
    "# Imports Baby \n",
    "import import_ipynb \n",
    "from LogicPuzzles import Puzzle, generate_hint, str_hint, Category, apply_hint, find_openings, find_transitives  \n",
    "from HintToEnglish import hint_to_english  \n",
    "from DataVisualization import plot_history\n",
    "import random \n",
    "import math \n",
    "import numpy.random as npr\n",
    "import pickle "
   ]
  },
  {
   "cell_type": "code",
   "execution_count": 1,
   "metadata": {},
   "outputs": [],
   "source": [
    "def decide(rate):\n",
    "  return random.random() < rate"
   ]
  },
  {
   "attachments": {},
   "cell_type": "markdown",
   "metadata": {},
   "source": [
    "## Representation \n",
    "\n",
    "### Mutation \n",
    "\n",
    "The following kinds of mutation are implemented: \n",
    "1. Add new hint \n",
    "2. Remove a hint \n",
    "\n",
    "### Cross-over \n",
    "Randomly add hints to each of children \n",
    "\n",
    "### Heuristic \n",
    "\n",
    "#### Feasibility \n",
    "The fesability heuristic is the percentage of empty (unsolved). A valid puzzle is completely filled, but if the hints are incomplete or inlogical the resulting puzzle will have many empty pieces. This assumes that the hints will stop being applied when an invalid hint is attempted. \n",
    "\n",
    "#### Optimization \n",
    "We are hoping to optimize for challenge. Certain hint types are more challenging then others, so the algorithm will find the average of the difficulty of each hint (according to a dicitonary). In the future more complex algorithms could be considered (what types of deductions need to be made, etc.). This way harder hints (ex: or) will be selected over easier hints (ex: is)"
   ]
  },
  {
   "cell_type": "code",
   "execution_count": 43,
   "metadata": {},
   "outputs": [],
   "source": [
    "HINT_VALUES = {\n",
    "    \"is\": 0.2,\n",
    "    \"not\": 0.4,\n",
    "    \"before\": 0.7,\n",
    "    \"simple_or\": 0.7,\n",
    "    \"compound_or\": 0.1\n",
    "  }"
   ]
  },
  {
   "cell_type": "code",
   "execution_count": 44,
   "metadata": {},
   "outputs": [],
   "source": [
    "def apply_hints(puzzle, hints):\n",
    "    \"\"\"\n",
    "    solver \n",
    "    \"\"\"\n",
    "    copy = Puzzle(puzzle.categories)\n",
    "    queue = hints[:]\n",
    "    trace = {}\n",
    "    backlog = []\n",
    "    applied = True \n",
    "    is_valid = True\n",
    "    step = 0\n",
    "    while is_valid and applied and len(queue) > 0:\n",
    "        applied = False \n",
    "        for hint in queue: \n",
    "            step += 1\n",
    "            if str_hint(hint) not in trace:\n",
    "                trace[str_hint(hint)] = []\n",
    "            trace[str_hint(hint)].append(step)\n",
    "            a, is_valid, complete = apply_hint(copy, hint)\n",
    "            applied = applied or a\n",
    "            if not complete: \n",
    "                backlog.append(hint)\n",
    "            if not is_valid:\n",
    "                break \n",
    "\n",
    "            # Apply additional logic \n",
    "            if a: \n",
    "                a_3, is_valid, complete = find_transitives(copy)\n",
    "                a_2, is_valid, complete = find_openings(copy)\n",
    "                applied = applied or a_2 or a_3# test if anything was changed \n",
    "        \n",
    "        queue = backlog \n",
    "        backlog = [] \n",
    "    return copy, trace"
   ]
  },
  {
   "cell_type": "code",
   "execution_count": 45,
   "metadata": {},
   "outputs": [],
   "source": [
    "class HintSet:\n",
    "    def __init__(self, hints, puzzle) -> None:\n",
    "        self.hints = hints \n",
    "        self.puzzle = puzzle # assumed to be blank \n",
    "        self.completed_puzzle, self.trace = apply_hints(self.puzzle, self.hints)\n",
    "\n",
    "    def mutate(self, add_rate):\n",
    "        hint_copy = self.hints[:]\n",
    "        if((decide(add_rate)) and len(hint_copy) <= 20) or  len(hint_copy) <= 0:\n",
    "            new_hint = generate_hint(self.puzzle)\n",
    "            hint_copy.append(new_hint)\n",
    "        else:\n",
    "            index = random.randint(0, len(hint_copy) - 1)\n",
    "            del hint_copy[index] \n",
    "            \n",
    "        \n",
    "        return HintSet(hint_copy, self.puzzle)\n",
    "    \n",
    "    def cross_over(self, other):\n",
    "        hints = self.hints[:] + other.hints[:]\n",
    "        random.shuffle(hints)\n",
    "        threshold = math.floor(len(hints) / 2)\n",
    "\n",
    "        return HintSet(hints[0:threshold], self.puzzle), HintSet(hints[threshold: len(hints)], self.puzzle)\n",
    "    \n",
    "    def is_valid(self):\n",
    "        return len(self.hints) > 0 and self.completed_puzzle.is_complete()\n",
    "\n",
    "    def _violations_fun(self, violations):\n",
    "        if violations > 10:\n",
    "            return 0 \n",
    "        elif violations <= 0:\n",
    "            return 1 \n",
    "        else:\n",
    "            return 1 - (violations / 10 ) \n",
    "    \n",
    "    def feasibility(self):\n",
    "        complete, valid = self.completed_puzzle.percent_complete()\n",
    "        violations = self.completed_puzzle.num_violations()\n",
    " \n",
    "        return (0.33 * complete) + (0.33 * valid) + (0.33 * self._violations_fun(violations))\n",
    "     \n",
    "    def optimize_func(self):\n",
    "        if len(self.hints) == 0:\n",
    "            return 0 \n",
    "        score = 0 \n",
    "        # for hint in self.hints:\n",
    "        #     rule = list(hint.keys())[0]\n",
    "        #     if rule == \"simple_hint\":\n",
    "        #         rule = list(hint.keys())[0]\n",
    "        #     score += HINT_VALUES[rule] \n",
    "        num_loops = max(len(hint_trace) for hint_trace in self.trace.values())\n",
    "        \n",
    "        return (0.5 * num_loops / len(self.hints)) + (0.5 * (1 - (len(self.hints) / 20)))\n",
    "\n",
    "class History:\n",
    "    def __init__(self):\n",
    "        self.num_feasible = []\n",
    "        self.feasible_fitness = []\n",
    "        self.infeasible_fitness = []\n",
    "\n",
    "    def update_history(self, feasible, infeasible):\n",
    "        self.num_feasible.append(len(feasible))\n",
    "\n",
    "        if len(feasible) == 0:\n",
    "            self.feasible_fitness.append(0)\n",
    "        else: \n",
    "            self.feasible_fitness.append(feasible[0][0])\n",
    "        \n",
    "        if len(infeasible) == 0:\n",
    "            self.infeasible_fitness.append(0)\n",
    "        else: \n",
    "            self.infeasible_fitness.append(infeasible[0][0])\n",
    "\n",
    "\n",
    "\n",
    "\n"
   ]
  },
  {
   "cell_type": "code",
   "execution_count": 31,
   "metadata": {},
   "outputs": [],
   "source": [
    "def random_hint_set(puzzle):\n",
    "    num = random.randint(1,5) \n",
    "    hints = [generate_hint(puzzle) for i in range(num)]\n",
    "    return HintSet(hints, puzzle)"
   ]
  },
  {
   "attachments": {},
   "cell_type": "markdown",
   "metadata": {},
   "source": [
    "## Evolution "
   ]
  },
  {
   "cell_type": "code",
   "execution_count": 32,
   "metadata": {},
   "outputs": [],
   "source": [
    "\n",
    "def select(population):\n",
    "    m = sum([c[0] for c in population])\n",
    "    if(m == 0):\n",
    "      selection_probs = [1/len(population) for c in population]\n",
    "    else:\n",
    "      selection_probs = [c[0]/m for c in population]\n",
    "    return population[npr.choice(len(population), p=selection_probs)]"
   ]
  },
  {
   "cell_type": "code",
   "execution_count": 46,
   "metadata": {
    "lines_to_next_cell": 2
   },
   "outputs": [],
   "source": [
    "def _add_child(hints, feasible, infeasible):\n",
    "    \"\"\"\n",
    "    if hint set is valid, add to feasible pop with optmiziation fitness, \n",
    "    otherwise add to infeasible pop with feasibility fitness \n",
    "    \"\"\"\n",
    "    if hints.is_valid():\n",
    "        fitness = hints.optimize_func()\n",
    "        feasible.append((fitness, hints))\n",
    "    else:\n",
    "        fitness = hints.feasibility()\n",
    "        infeasible.append((fitness, hints)) \n",
    "\n",
    "def evolve(puzzle, generations, pop_size, x_rate, mut_rate, add_rate, elits):\n",
    "    feasible = []\n",
    "    infeasible = []\n",
    "    history = History()\n",
    "\n",
    "    # Create initial population \n",
    "    for i in range(pop_size):\n",
    "        hints = random_hint_set(puzzle)\n",
    "        _add_child(hints, feasible, infeasible)\n",
    "        \n",
    "    for gen in range(generations):\n",
    "     \n",
    "        new_feasible = []\n",
    "        new_infeasible = []\n",
    "\n",
    "        \n",
    "        feasible.sort(reverse= True, key = lambda a: a[0])\n",
    "        infeasible.sort(reverse= True, key = lambda a: a[0]) \n",
    "\n",
    "        history.update_history(feasible, infeasible)\n",
    "\n",
    "        if gen % 50 == 0: \n",
    "            print(\"-\"* 40) \n",
    "            print(\"GENERATION \" + str(gen))\n",
    "            print(\"-\"* 80)\n",
    "            if len(infeasible) > 0:\n",
    "                print(\"Infeasible\")\n",
    "                print(infeasible[0])\n",
    "                print(infeasible[0][1].completed_puzzle.print_grid())\n",
    "                print(infeasible[0][1].completed_puzzle.num_violations())\n",
    "            if len(feasible) > 0 :\n",
    "                print(\"feasible:\")\n",
    "                print(feasible[0])\n",
    "                print(feasible[0][1].completed_puzzle.print_grid())\n",
    "            print(\"-\"* 80)\n",
    "\n",
    "        # elitism \n",
    "        if len(feasible) > 0:\n",
    "            new_feasible = feasible[:elits]\n",
    "        if len(infeasible) > 0:\n",
    "            new_infeasible = infeasible[:elits]\n",
    "\n",
    "        #create new population \n",
    "        while len(new_feasible) + len(new_infeasible) < pop_size:\n",
    "            \n",
    "            # Selection \n",
    "            # Not clear to me how to choose which pop to select from, \n",
    "            # right now am deciding randomly based on size of two pops \n",
    "\n",
    "            if decide(len(feasible) / (len(feasible) + len(infeasible))):\n",
    "                # selecting from feasible\n",
    "                indiv1 = select(feasible)[1]\n",
    "                indiv2 = select(feasible)[1]\n",
    "            else:\n",
    "                indiv1 = select(infeasible)[1]\n",
    "                indiv2 = select(infeasible)[1]\n",
    "            \n",
    "            \n",
    "            # cross over \n",
    "            if decide(x_rate):\n",
    "                indiv1, indiv2 = indiv1.cross_over(indiv2)\n",
    "\n",
    "            # mutation \n",
    "            if decide(mut_rate):\n",
    "                child1 = indiv1.mutate(add_rate)\n",
    "                child2 = indiv2.mutate(add_rate)\n",
    "            else:\n",
    "                child1 = indiv1\n",
    "                child2 = indiv2\n",
    "\n",
    "            # add children \n",
    "            _add_child(child1, new_feasible, new_infeasible)\n",
    "\n",
    "            if len(new_feasible) + len(new_infeasible) < pop_size:\n",
    "                _add_child(child2, new_feasible, new_infeasible)\n",
    "                \n",
    "        feasible = new_feasible\n",
    "        infeasible = new_infeasible \n",
    "    return feasible, infeasible, history "
   ]
  },
  {
   "cell_type": "code",
   "execution_count": 49,
   "metadata": {},
   "outputs": [],
   "source": [
    "if __name__ == \"__main__\":\n",
    "    suspects = Category(\"suspect\", [\"Scarlet\", \"White\", \"Mustard\", \"Plum\"], False)\n",
    "    weapons = Category(\"weapon\", [\"Knife\", \"Rope\", \"Candle Stick\", \"Wrench\"], False)\n",
    "    rooms = Category(\"room\", [\"Ball room\", \"Living Room\", \"Kitchen\", \"Study\"], False)\n",
    "    time = Category(\"hour\", [\"1:00\", \"2:00\", \"3:00\", \"4:00\"], True)\n",
    "\n",
    "    puzzle = Puzzle([suspects, weapons, rooms, time]) \n",
    "\n",
    "    pop = evolve(puzzle, 100,50, 0.2, 1, 0.5, 2) "
   ]
  },
  {
   "cell_type": "code",
   "execution_count": 50,
   "metadata": {},
   "outputs": [
    {
     "name": "stdout",
     "output_type": "stream",
     "text": [
      "[{'compound_or': [{'is': [<LogicPuzzles.Category object at 0x7f4d8e5b66e0>, 'Candle Stick', <LogicPuzzles.Category object at 0x7f4d8c53c370>, '2:00']}, {'is': [<LogicPuzzles.Category object at 0x7f4d8e5b66e0>, 'Knife', <LogicPuzzles.Category object at 0x7f4d8c53eec0>, 'White']}]}]\n"
     ]
    },
    {
     "ename": "IndexError",
     "evalue": "list index out of range",
     "output_type": "error",
     "traceback": [
      "\u001b[0;31m---------------------------------------------------------------------------\u001b[0m",
      "\u001b[0;31mIndexError\u001b[0m                                Traceback (most recent call last)",
      "Cell \u001b[0;32mIn[50], line 6\u001b[0m\n\u001b[1;32m      2\u001b[0m infeasible \u001b[39m=\u001b[39m pop[\u001b[39m1\u001b[39m]\n\u001b[1;32m      4\u001b[0m \u001b[39mprint\u001b[39m(feasible[\u001b[39m0\u001b[39m][\u001b[39m1\u001b[39m]\u001b[39m.\u001b[39mhints)\n\u001b[0;32m----> 6\u001b[0m \u001b[39mprint\u001b[39m(infeasible[\u001b[39m0\u001b[39;49m][\u001b[39m1\u001b[39m]\u001b[39m.\u001b[39mhints)\n",
      "\u001b[0;31mIndexError\u001b[0m: list index out of range"
     ]
    }
   ],
   "source": [
    "if __name__ == \"__main__\":\n",
    "    file = open(\"Experiement1/pop1.p\", \"wb\")\n",
    "    pickle.dump(pop, file)\n",
    "    feasible = pop[0]\n",
    "    infeasible = pop[1]\n",
    "    history = pop[2]\n",
    "\n",
    "    print(feasible)\n",
    "    print(feasible[0][1].completed_puzzle.print_grid())\n",
    "    print(len(feasible[0][1].hints))\n",
    "    print([hint_to_english(hint) for hint in feasible[0][1].hints])\n",
    "    print(\"\\n\\n\")\n",
    "    print(infeasible)\n",
    "    plot_history(history, \"Experiement1\")"
   ]
  }
 ],
 "metadata": {
  "jupytext": {
   "formats": "ipynb,py:percent"
  },
  "kernelspec": {
   "display_name": "Python 3 (ipykernel)",
   "language": "python",
   "name": "python3"
  },
  "language_info": {
   "codemirror_mode": {
    "name": "ipython",
    "version": 3
   },
   "file_extension": ".py",
   "mimetype": "text/x-python",
   "name": "python",
   "nbconvert_exporter": "python",
   "pygments_lexer": "ipython3",
   "version": "3.12.0"
  },
  "vscode": {
   "interpreter": {
    "hash": "916dbcbb3f70747c44a77c7bcd40155683ae19c65e1c03b4aa3499c5328201f1"
   }
  }
 },
 "nbformat": 4,
 "nbformat_minor": 4
}
